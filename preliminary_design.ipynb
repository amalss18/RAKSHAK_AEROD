{
  "nbformat": 4,
  "nbformat_minor": 0,
  "metadata": {
    "colab": {
      "name": "preliminary_design.ipynb",
      "provenance": [],
      "collapsed_sections": []
    },
    "kernelspec": {
      "name": "python3",
      "display_name": "Python 3"
    }
  },
  "cells": [
    {
      "cell_type": "code",
      "metadata": {
        "id": "6ooE-8L5brHK",
        "colab_type": "code",
        "colab": {}
      },
      "source": [
        "import numpy as np\n",
        "import matplotlib.pyplot as plt\n",
        "import matplotlib\n",
        "matplotlib.rcParams['figure.figsize'] = [10, 5]"
      ],
      "execution_count": 0,
      "outputs": []
    },
    {
      "cell_type": "markdown",
      "metadata": {
        "id": "pPswsTzlRVGw",
        "colab_type": "text"
      },
      "source": [
        "given parameters"
      ]
    },
    {
      "cell_type": "code",
      "metadata": {
        "id": "byhgD9IaQ8kV",
        "colab_type": "code",
        "colab": {}
      },
      "source": [
        "v_stall=10\n",
        "v_max=30\n",
        "ROC_max=6\n",
        "STO=30\n",
        "h_c=221.8\n",
        "r_turn=150\n",
        "\n",
        "rho0=1.225\n",
        "\n",
        "rho30ft=1.2\n",
        "rho=1.13\n",
        "rho_hmax=1.1\n",
        "g=9.8\n",
        "Cd0=0.03\n",
        "effp = 0.6\n",
        "AR = 6\n",
        "K = 1/(np.pi*AR*0.85) \n",
        "L_D_max = 10.486\n",
        "mu=0.04\n",
        "V_to= 1.2*v_stall"
      ],
      "execution_count": 0,
      "outputs": []
    },
    {
      "cell_type": "code",
      "metadata": {
        "id": "K5LJg5uhSv9h",
        "colab_type": "code",
        "colab": {}
      },
      "source": [
        "cl_max=1.2"
      ],
      "execution_count": 0,
      "outputs": []
    },
    {
      "cell_type": "code",
      "metadata": {
        "id": "ez6wKC-yeytE",
        "colab_type": "code",
        "colab": {}
      },
      "source": [
        "def calc_v_max(w_s):\n",
        "  num = effp\n",
        "  den_1 = 0.5*rho0*v_max**3*Cd0/(w_s)\n",
        "  sigma = rho/rho0\n",
        "  den_2 = 2*K*w_s/(rho*sigma*v_max)\n",
        "  w_p = num/(den_1+den_2)  \n",
        "  return w_p"
      ],
      "execution_count": 0,
      "outputs": []
    },
    {
      "cell_type": "code",
      "metadata": {
        "id": "sIMpCfBZXtQf",
        "colab_type": "code",
        "colab": {}
      },
      "source": [
        "def calc_hc(w_s):\n",
        "    num = rho_hmax/rho0\n",
        "    den_1_1= 2/(rho_hmax*np.sqrt(3*Cd0/K))\n",
        "    den_1_2 = w_s\n",
        "    den_2 = 1.155/(effp*L_D_max)\n",
        "    w_p = num/(np.sqrt(den_1_1*den_1_2)*den_2)\n",
        "    return w_p\n"
      ],
      "execution_count": 0,
      "outputs": []
    },
    {
      "cell_type": "code",
      "metadata": {
        "id": "eYvjeONnXsfH",
        "colab_type": "code",
        "colab": {}
      },
      "source": [
        "def stall():\n",
        "    ws= 0.5*rho0*cl_max*(v_stall**2)\n",
        "    return(ws)\n",
        "\n",
        "def clr(ws):\n",
        "    ans=(2*ws)/(rho*((1.2*v_stall)**2))\n",
        "    return(cl_max/1.21)\n",
        "\n",
        "def cdg(cl):\n",
        "    ans= Cd0+K*(cl**2)-mu*cl\n",
        "    return(0.028)\n",
        "\n",
        "def takeoffRun(ws):\n",
        "    cl=clr(ws)\n",
        "    d1=(mu+cdg(cl)/cl)\n",
        "    n2=np.exp(0.6*rho30ft*g*cdg(cl)*STO/ws)\n",
        "    wpn=(1-n2)*effp\n",
        "    wpd=(mu-d1*n2)*V_to\n",
        "    wp=wpn/wpd\n",
        "    return(wp)\n",
        "\n",
        "\n",
        "def Rate_of_climb(ws):\n",
        "    wp1=(ROC_max/effp)\n",
        "    wp2= np.sqrt(2*ws/(rho0*np.sqrt(3*Cd0/K)))\n",
        "    wp3= 1.155/(L_D_max*effp)\n",
        "    return(1/(wp1+wp2*wp3))\n",
        "\n",
        "\n"
      ],
      "execution_count": 0,
      "outputs": []
    },
    {
      "cell_type": "code",
      "metadata": {
        "id": "6kiRMO41f8YA",
        "colab_type": "code",
        "outputId": "b37f695c-9fba-4199-ddb0-dd2a61f72ec5",
        "colab": {
          "base_uri": "https://localhost:8080/",
          "height": 324
        }
      },
      "source": [
        "ws = np.linspace(0.1,100,200)\n",
        "wp4 = calc_v_max(ws)\n",
        "wp5  = calc_hc(ws)\n",
        "wp2=takeoffRun(ws)\n",
        "wp3=Rate_of_climb(ws)\n",
        "wp1=stall()\n",
        "plt.vlines(wp1,0,10,label=\"stall\")\n",
        "plt.plot(ws,wp2,label=\"sto\")\n",
        "plt.plot(ws,wp3,label=\"roc\")\n",
        "plt.plot(ws,wp4,label=\"v_max\")\n",
        "plt.plot(ws,wp5,label=\"hc\")\n",
        "plt.ylim(0,0.5)\n",
        "plt.xlim(wp1-30,wp1+10);\n",
        "plt.legend()\n",
        "plt.grid()"
      ],
      "execution_count": 0,
      "outputs": [
        {
          "output_type": "display_data",
          "data": {
            "image/png": "[encoded data removed]",
            "text/plain": [
              "<Figure size 720x360 with 1 Axes>"
            ]
          },
          "metadata": {
            "tags": []
          }
        }
      ]
    },
    {
      "cell_type": "code",
      "metadata": {
        "id": "mIgngHH2t5S8",
        "colab_type": "code",
        "outputId": "fd3da779-dda8-4332-9286-552078978a8d",
        "colab": {
          "base_uri": "https://localhost:8080/",
          "height": 34
        }
      },
      "source": [
        "calc_v_max(wp1)"
      ],
      "execution_count": 0,
      "outputs": [
        {
          "output_type": "execute_result",
          "data": {
            "text/plain": [
              "0.08518617154255866"
            ]
          },
          "metadata": {
            "tags": []
          },
          "execution_count": 79
        }
      ]
    },
    {
      "cell_type": "code",
      "metadata": {
        "id": "bCh_1CE4IOFF",
        "colab_type": "code",
        "outputId": "0396c7f3-e408-421a-ea50-ceb1554a0e71",
        "colab": {
          "base_uri": "https://localhost:8080/",
          "height": 34
        }
      },
      "source": [
        "wp1"
      ],
      "execution_count": 0,
      "outputs": [
        {
          "output_type": "execute_result",
          "data": {
            "text/plain": [
              "73.5"
            ]
          },
          "metadata": {
            "tags": []
          },
          "execution_count": 80
        }
      ]
    },
    {
      "cell_type": "code",
      "metadata": {
        "id": "mw6RvrQxnk8b",
        "colab_type": "code",
        "colab": {}
      },
      "source": [
        ""
      ],
      "execution_count": 0,
      "outputs": []
    }
  ]
}